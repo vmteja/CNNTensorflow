{
 "cells": [
  {
   "cell_type": "code",
   "execution_count": 1,
   "metadata": {},
   "outputs": [
    {
     "name": "stdout",
     "output_type": "stream",
     "text": [
      "Populating the interactive namespace from numpy and matplotlib\n"
     ]
    },
    {
     "name": "stderr",
     "output_type": "stream",
     "text": [
      "Using TensorFlow backend.\n"
     ]
    }
   ],
   "source": [
    "%pylab inline\n",
    "import numpy as np\n",
    "from keras.preprocessing import image\n",
    "import os\n",
    "import keras\n",
    "\n",
    "from sklearn.model_selection import train_test_split\n",
    "from keras.models import Sequential\n",
    "from keras.layers import Dense, Dropout, Activation, Flatten\n",
    "from keras.layers import Conv2D, MaxPooling2D"
   ]
  },
  {
   "cell_type": "code",
   "execution_count": 44,
   "metadata": {
    "collapsed": true
   },
   "outputs": [],
   "source": [
    "filenames = os.listdir(\"data\")\n",
    "label_to_num = {\"O\":0, \"P\":1, \"Q\":2, \"S\":3, \"W\":4}\n",
    "\n",
    "X_list = []\n",
    "y_list = []\n",
    "for f in filenames:\n",
    "    img = image.img_to_array(image.load_img(\"data/{}\".format(f)))\n",
    "    \n",
    "    X_list.append(img)\n",
    "    y_list.append(label_to_num[f.split(\"_\")[1][0]])\n",
    "    "
   ]
  },
  {
   "cell_type": "code",
   "execution_count": 46,
   "metadata": {
    "collapsed": true
   },
   "outputs": [],
   "source": [
    "X = np.array(X_list)\n",
    "y = keras.utils.to_categorical(y_list)"
   ]
  },
  {
   "cell_type": "code",
   "execution_count": 49,
   "metadata": {
    "collapsed": true
   },
   "outputs": [],
   "source": [
    "X_train, X_test, y_train, y_test = train_test_split(X,y)"
   ]
  },
  {
   "cell_type": "code",
   "execution_count": 50,
   "metadata": {
    "collapsed": true
   },
   "outputs": [],
   "source": [
    "# Normalize inputs from 0-255 to 0.0-1.0\n",
    "x_train = x_train.astype('float32')\n",
    "x_train = x_train / 255.0\n",
    "\n",
    "x_test = x_test.astype('float32')\n",
    "x_test = x_test / 255.0"
   ]
  },
  {
   "cell_type": "code",
   "execution_count": 63,
   "metadata": {
    "collapsed": true
   },
   "outputs": [],
   "source": [
    "\n",
    "\n",
    "model = Sequential()\n",
    "model.add(Conv2D(32, (3, 3), padding='same',\n",
    "                 input_shape=X_train.shape[1:]))\n",
    "model.add(Activation('relu'))\n",
    "model.add(Conv2D(32, (3, 3)))\n",
    "model.add(Activation('relu'))\n",
    "model.add(MaxPooling2D(pool_size=(2, 2)))\n",
    "model.add(Dropout(0.25))\n",
    "\n",
    "model.add(Conv2D(64, (3, 3), padding='same'))\n",
    "model.add(Activation('relu'))\n",
    "model.add(Conv2D(64, (3, 3)))\n",
    "model.add(Activation('relu'))\n",
    "model.add(MaxPooling2D(pool_size=(2, 2)))\n",
    "model.add(Dropout(0.25))\n",
    "\n",
    "model.add(Flatten())\n",
    "model.add(Dense(512))\n",
    "model.add(Activation('relu'))\n",
    "model.add(Dropout(0.5))\n",
    "model.add(Dense(5))\n",
    "model.add(Activation('softmax'))\n",
    "\n",
    "# initiate RMSprop optimizer\n",
    "opt = keras.optimizers.rmsprop(lr=0.0001, decay=1e-6)\n",
    "\n",
    "# Let's train the model using RMSprop\n",
    "model.compile(loss='categorical_crossentropy',\n",
    "              optimizer=opt,\n",
    "              metrics=['accuracy'])"
   ]
  },
  {
   "cell_type": "code",
   "execution_count": null,
   "metadata": {},
   "outputs": [
    {
     "name": "stdout",
     "output_type": "stream",
     "text": [
      "Train on 7500 samples, validate on 2500 samples\n",
      "Epoch 1/100\n",
      "7500/7500 [==============================] - 31s - loss: 7.2562 - acc: 0.4485 - val_loss: 0.8067 - val_acc: 0.8140\n",
      "Epoch 2/100\n",
      "7500/7500 [==============================] - 36s - loss: 1.3222 - acc: 0.7229 - val_loss: 0.5579 - val_acc: 0.8044\n",
      "Epoch 3/100\n",
      "7500/7500 [==============================] - 43s - loss: 0.5440 - acc: 0.8005 - val_loss: 0.2623 - val_acc: 0.9000\n",
      "Epoch 4/100\n",
      "7500/7500 [==============================] - 53s - loss: 0.3709 - acc: 0.8588 - val_loss: 0.1965 - val_acc: 0.9216\n",
      "Epoch 5/100\n",
      "7500/7500 [==============================] - 65s - loss: 0.2968 - acc: 0.8905 - val_loss: 0.1866 - val_acc: 0.9288\n",
      "Epoch 6/100\n",
      "7500/7500 [==============================] - 72s - loss: 0.2499 - acc: 0.9059 - val_loss: 0.1514 - val_acc: 0.9424\n",
      "Epoch 7/100\n",
      "7500/7500 [==============================] - 87s - loss: 0.2115 - acc: 0.9209 - val_loss: 0.1522 - val_acc: 0.9412\n",
      "Epoch 8/100\n",
      "7500/7500 [==============================] - 67s - loss: 0.1848 - acc: 0.9329 - val_loss: 0.1107 - val_acc: 0.9556\n",
      "Epoch 9/100\n",
      "7500/7500 [==============================] - 84s - loss: 0.1666 - acc: 0.9389 - val_loss: 0.1000 - val_acc: 0.9628\n",
      "Epoch 10/100\n",
      "7500/7500 [==============================] - 79s - loss: 0.1554 - acc: 0.9445 - val_loss: 0.0933 - val_acc: 0.9688\n",
      "Epoch 11/100\n",
      "3136/7500 [===========>..................] - ETA: 37s - loss: 0.1337 - acc: 0.9528"
     ]
    }
   ],
   "source": [
    "model.fit(X_train, y_train,\n",
    "          batch_size=32,\n",
    "          epochs=100,\n",
    "          validation_data=(X_test, y_test),\n",
    "          shuffle=True)\n"
   ]
  },
  {
   "cell_type": "code",
   "execution_count": null,
   "metadata": {
    "collapsed": true
   },
   "outputs": [],
   "source": []
  }
 ],
 "metadata": {
  "kernelspec": {
   "display_name": "Python 3",
   "language": "python",
   "name": "python3"
  },
  "language_info": {
   "codemirror_mode": {
    "name": "ipython",
    "version": 3
   },
   "file_extension": ".py",
   "mimetype": "text/x-python",
   "name": "python",
   "nbconvert_exporter": "python",
   "pygments_lexer": "ipython3",
   "version": "3.6.2"
  }
 },
 "nbformat": 4,
 "nbformat_minor": 2
}
